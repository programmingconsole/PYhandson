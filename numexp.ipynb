{
  "nbformat": 4,
  "nbformat_minor": 0,
  "metadata": {
    "colab": {
      "provenance": [],
      "authorship_tag": "ABX9TyMonwMCGO2zmUQDbxQNLdMi",
      "include_colab_link": true
    },
    "kernelspec": {
      "name": "python3",
      "display_name": "Python 3"
    },
    "language_info": {
      "name": "python"
    }
  },
  "cells": [
    {
      "cell_type": "markdown",
      "metadata": {
        "id": "view-in-github",
        "colab_type": "text"
      },
      "source": [
        "<a href=\"https://colab.research.google.com/github/programmingconsole/PYhandson/blob/main/numexp.ipynb\" target=\"_parent\"><img src=\"https://colab.research.google.com/assets/colab-badge.svg\" alt=\"Open In Colab\"/></a>"
      ]
    },
    {
      "cell_type": "code",
      "execution_count": 32,
      "metadata": {
        "colab": {
          "base_uri": "https://localhost:8080/"
        },
        "id": "pgH2lPEEjzZe",
        "outputId": "ff586ca3-9e58-47da-85c2-a4b624b4d0b8"
      },
      "outputs": [
        {
          "output_type": "stream",
          "name": "stdout",
          "text": [
            "[25, 21, 74, 87, 56, 60, 78, 86, 71, 14, 42, 93, 81, 55, 77, 53, 72, 43, 67, 99, 57, 95, 44, 76, 66, 82, 87, 24, 23, 80, 97, 48, 40, 69, 99, 90, 11, 98, 29, 87, 94, 14, 31, 19, 65, 75, 98, 75, 62, 35, 53, 25, 50, 83, 24, 30, 58, 80, 97, 95, 90, 24, 89, 30, 18, 17, 26, 99, 56, 69, 77, 92, 66, 46, 16, 40, 52, 78, 99, 36, 92, 32, 86, 97, 46, 61, 92, 31, 86, 28, 87, 31, 85, 100, 72, 30, 70, 83, 35, 27]\n",
            "avg= Counter({87: 4, 99: 4, 86: 3, 24: 3, 97: 3, 31: 3, 30: 3, 92: 3, 25: 2, 56: 2, 78: 2, 14: 2, 77: 2, 53: 2, 72: 2, 95: 2, 66: 2, 80: 2, 40: 2, 69: 2, 90: 2, 98: 2, 75: 2, 35: 2, 83: 2, 46: 2, 21: 1, 74: 1, 60: 1, 71: 1, 42: 1, 93: 1, 81: 1, 55: 1, 43: 1, 67: 1, 57: 1, 44: 1, 76: 1, 82: 1, 23: 1, 48: 1, 11: 1, 29: 1, 94: 1, 19: 1, 65: 1, 62: 1, 50: 1, 58: 1, 89: 1, 18: 1, 17: 1, 26: 1, 16: 1, 52: 1, 36: 1, 32: 1, 61: 1, 28: 1, 85: 1, 100: 1, 70: 1, 27: 1})\n",
            "Mean= 61.1\n",
            "[21]\n"
          ]
        }
      ],
      "source": [
        "import random\n",
        "import statistics\n",
        "ran=[random.randint(10,100) for i in range(100)]\n",
        "\n",
        "print(ran)\n",
        "\n",
        "mea=statistics.mean(ran)\n",
        "\n",
        "avg=statistics.Counter(ran)\n",
        "print(\"avg=\",avg)\n",
        "print(\"Mean=\",mea)\n",
        "\n",
        "fil=[ i for i in ran if i ==21]\n",
        "\n",
        "print(fil)"
      ]
    }
  ]
}